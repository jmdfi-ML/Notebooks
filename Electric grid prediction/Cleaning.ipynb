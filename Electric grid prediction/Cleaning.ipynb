{
 "cells": [
  {
   "cell_type": "markdown",
   "metadata": {},
   "source": [
    "# PROJET 3: Anticipez les besoins en consommation électrique de bâtiments"
   ]
  },
  {
   "cell_type": "markdown",
   "metadata": {},
   "source": [
    "## SOMMAIRE  <a class=\"anchor\" id=\"sommaire\"></a>\n",
    "## [CONTEXTE DU PROJET](#1)<a class=\"anchor\" id=\"sommaire\"></a>\n",
    "## [LES DONNEES DU PROJET](#2)<a class=\"anchor\" id=\"sommaire\"></a>\n",
    "## [IMPORT DES LIBRAIRIES](#3)<a class=\"anchor\" id=\"sommaire\"></a>\n",
    "## [CHARGEMENT DES DONNEES](#4)<a class=\"anchor\" id=\"sommaire\"></a>\n",
    "## [MISSION 1: NETTOYAGE DES DONNEES](#5)<a class=\"anchor\" id=\"sommaire\"></a>"
   ]
  },
  {
   "cell_type": "markdown",
   "metadata": {},
   "source": [
    "## [CONTEXTE DU PROJET](#sommaire)<a class=\"anchor\" id=\"1\"></a>"
   ]
  },
  {
   "cell_type": "markdown",
   "metadata": {},
   "source": [
    "Analyse et prédiction sur la base de données de la ville de seattle de 2015 et 2016"
   ]
  },
  {
   "cell_type": "markdown",
   "metadata": {},
   "source": [
    "## [LES DONNEES DU PROJET](#sommaire)<a class=\"anchor\" id=\"2\"></a>"
   ]
  },
  {
   "cell_type": "markdown",
   "metadata": {},
   "source": [
    "https://www.kaggle.com/city-of-seattle/sea-building-energy-benchmarking?select=2015-building-energy-benchmarking.csv"
   ]
  },
  {
   "cell_type": "markdown",
   "metadata": {},
   "source": [
    "## [IMPORT DES LIBRAIRIES](#sommaire)<a class=\"anchor\" id=\"3\"></a>"
   ]
  },
  {
   "cell_type": "code",
   "execution_count": 79,
   "metadata": {},
   "outputs": [],
   "source": [
    "import pandas as pd\n",
    "import numpy as np\n",
    "import matplotlib.pyplot as plt\n",
    "import seaborn as sns\n",
    "import statsmodels.api as sm"
   ]
  },
  {
   "cell_type": "markdown",
   "metadata": {},
   "source": [
    "## [CHARGEMENT DES DONNEES](#sommaire)<a class=\"anchor\" id=\"4\"></a>"
   ]
  },
  {
   "cell_type": "code",
   "execution_count": 80,
   "metadata": {},
   "outputs": [],
   "source": [
    "data_test=pd.read_csv('2015-building-energy-benchmarking.csv',sep=',', error_bad_lines=True,nrows=50000,low_memory=False)\n",
    "df1=pd.DataFrame(data_test)"
   ]
  },
  {
   "cell_type": "code",
   "execution_count": 81,
   "metadata": {},
   "outputs": [],
   "source": [
    "data_test=pd.read_csv('2016-building-energy-benchmarking.csv',sep=',', error_bad_lines=True,nrows=50000,low_memory=False)\n",
    "df=pd.DataFrame(data_test)"
   ]
  },
  {
   "cell_type": "markdown",
   "metadata": {},
   "source": [
    "##### Aperçu des dataframes"
   ]
  },
  {
   "cell_type": "code",
   "execution_count": 82,
   "metadata": {},
   "outputs": [
    {
     "data": {
      "text/html": [
       "<div>\n",
       "<style scoped>\n",
       "    .dataframe tbody tr th:only-of-type {\n",
       "        vertical-align: middle;\n",
       "    }\n",
       "\n",
       "    .dataframe tbody tr th {\n",
       "        vertical-align: top;\n",
       "    }\n",
       "\n",
       "    .dataframe thead th {\n",
       "        text-align: right;\n",
       "    }\n",
       "</style>\n",
       "<table border=\"1\" class=\"dataframe\">\n",
       "  <thead>\n",
       "    <tr style=\"text-align: right;\">\n",
       "      <th></th>\n",
       "      <th>OSEBuildingID</th>\n",
       "      <th>DataYear</th>\n",
       "      <th>BuildingType</th>\n",
       "      <th>PrimaryPropertyType</th>\n",
       "      <th>PropertyName</th>\n",
       "      <th>Address</th>\n",
       "      <th>City</th>\n",
       "      <th>State</th>\n",
       "      <th>ZipCode</th>\n",
       "      <th>TaxParcelIdentificationNumber</th>\n",
       "      <th>...</th>\n",
       "      <th>Electricity(kWh)</th>\n",
       "      <th>Electricity(kBtu)</th>\n",
       "      <th>NaturalGas(therms)</th>\n",
       "      <th>NaturalGas(kBtu)</th>\n",
       "      <th>DefaultData</th>\n",
       "      <th>Comments</th>\n",
       "      <th>ComplianceStatus</th>\n",
       "      <th>Outlier</th>\n",
       "      <th>TotalGHGEmissions</th>\n",
       "      <th>GHGEmissionsIntensity</th>\n",
       "    </tr>\n",
       "  </thead>\n",
       "  <tbody>\n",
       "    <tr>\n",
       "      <th>0</th>\n",
       "      <td>1</td>\n",
       "      <td>2016</td>\n",
       "      <td>NonResidential</td>\n",
       "      <td>Hotel</td>\n",
       "      <td>Mayflower park hotel</td>\n",
       "      <td>405 Olive way</td>\n",
       "      <td>Seattle</td>\n",
       "      <td>WA</td>\n",
       "      <td>98101.0</td>\n",
       "      <td>0659000030</td>\n",
       "      <td>...</td>\n",
       "      <td>1.156514e+06</td>\n",
       "      <td>3.946027e+06</td>\n",
       "      <td>12764.529300</td>\n",
       "      <td>1.276453e+06</td>\n",
       "      <td>False</td>\n",
       "      <td>NaN</td>\n",
       "      <td>Compliant</td>\n",
       "      <td>NaN</td>\n",
       "      <td>249.98</td>\n",
       "      <td>2.83</td>\n",
       "    </tr>\n",
       "    <tr>\n",
       "      <th>1</th>\n",
       "      <td>2</td>\n",
       "      <td>2016</td>\n",
       "      <td>NonResidential</td>\n",
       "      <td>Hotel</td>\n",
       "      <td>Paramount Hotel</td>\n",
       "      <td>724 Pine street</td>\n",
       "      <td>Seattle</td>\n",
       "      <td>WA</td>\n",
       "      <td>98101.0</td>\n",
       "      <td>0659000220</td>\n",
       "      <td>...</td>\n",
       "      <td>9.504252e+05</td>\n",
       "      <td>3.242851e+06</td>\n",
       "      <td>51450.816410</td>\n",
       "      <td>5.145082e+06</td>\n",
       "      <td>False</td>\n",
       "      <td>NaN</td>\n",
       "      <td>Compliant</td>\n",
       "      <td>NaN</td>\n",
       "      <td>295.86</td>\n",
       "      <td>2.86</td>\n",
       "    </tr>\n",
       "    <tr>\n",
       "      <th>2</th>\n",
       "      <td>3</td>\n",
       "      <td>2016</td>\n",
       "      <td>NonResidential</td>\n",
       "      <td>Hotel</td>\n",
       "      <td>5673-The Westin Seattle</td>\n",
       "      <td>1900 5th Avenue</td>\n",
       "      <td>Seattle</td>\n",
       "      <td>WA</td>\n",
       "      <td>98101.0</td>\n",
       "      <td>0659000475</td>\n",
       "      <td>...</td>\n",
       "      <td>1.451544e+07</td>\n",
       "      <td>4.952666e+07</td>\n",
       "      <td>14938.000000</td>\n",
       "      <td>1.493800e+06</td>\n",
       "      <td>False</td>\n",
       "      <td>NaN</td>\n",
       "      <td>Compliant</td>\n",
       "      <td>NaN</td>\n",
       "      <td>2089.28</td>\n",
       "      <td>2.19</td>\n",
       "    </tr>\n",
       "    <tr>\n",
       "      <th>3</th>\n",
       "      <td>5</td>\n",
       "      <td>2016</td>\n",
       "      <td>NonResidential</td>\n",
       "      <td>Hotel</td>\n",
       "      <td>HOTEL MAX</td>\n",
       "      <td>620 STEWART ST</td>\n",
       "      <td>Seattle</td>\n",
       "      <td>WA</td>\n",
       "      <td>98101.0</td>\n",
       "      <td>0659000640</td>\n",
       "      <td>...</td>\n",
       "      <td>8.115253e+05</td>\n",
       "      <td>2.768924e+06</td>\n",
       "      <td>18112.130860</td>\n",
       "      <td>1.811213e+06</td>\n",
       "      <td>False</td>\n",
       "      <td>NaN</td>\n",
       "      <td>Compliant</td>\n",
       "      <td>NaN</td>\n",
       "      <td>286.43</td>\n",
       "      <td>4.67</td>\n",
       "    </tr>\n",
       "    <tr>\n",
       "      <th>4</th>\n",
       "      <td>8</td>\n",
       "      <td>2016</td>\n",
       "      <td>NonResidential</td>\n",
       "      <td>Hotel</td>\n",
       "      <td>WARWICK SEATTLE HOTEL (ID8)</td>\n",
       "      <td>401 LENORA ST</td>\n",
       "      <td>Seattle</td>\n",
       "      <td>WA</td>\n",
       "      <td>98121.0</td>\n",
       "      <td>0659000970</td>\n",
       "      <td>...</td>\n",
       "      <td>1.573449e+06</td>\n",
       "      <td>5.368607e+06</td>\n",
       "      <td>88039.984380</td>\n",
       "      <td>8.803998e+06</td>\n",
       "      <td>False</td>\n",
       "      <td>NaN</td>\n",
       "      <td>Compliant</td>\n",
       "      <td>NaN</td>\n",
       "      <td>505.01</td>\n",
       "      <td>2.88</td>\n",
       "    </tr>\n",
       "    <tr>\n",
       "      <th>...</th>\n",
       "      <td>...</td>\n",
       "      <td>...</td>\n",
       "      <td>...</td>\n",
       "      <td>...</td>\n",
       "      <td>...</td>\n",
       "      <td>...</td>\n",
       "      <td>...</td>\n",
       "      <td>...</td>\n",
       "      <td>...</td>\n",
       "      <td>...</td>\n",
       "      <td>...</td>\n",
       "      <td>...</td>\n",
       "      <td>...</td>\n",
       "      <td>...</td>\n",
       "      <td>...</td>\n",
       "      <td>...</td>\n",
       "      <td>...</td>\n",
       "      <td>...</td>\n",
       "      <td>...</td>\n",
       "      <td>...</td>\n",
       "      <td>...</td>\n",
       "    </tr>\n",
       "    <tr>\n",
       "      <th>3371</th>\n",
       "      <td>50222</td>\n",
       "      <td>2016</td>\n",
       "      <td>Nonresidential COS</td>\n",
       "      <td>Office</td>\n",
       "      <td>Horticulture building</td>\n",
       "      <td>1600 S Dakota St</td>\n",
       "      <td>Seattle</td>\n",
       "      <td>WA</td>\n",
       "      <td>NaN</td>\n",
       "      <td>1624049080</td>\n",
       "      <td>...</td>\n",
       "      <td>1.536550e+05</td>\n",
       "      <td>5.242709e+05</td>\n",
       "      <td>3254.750244</td>\n",
       "      <td>3.254750e+05</td>\n",
       "      <td>True</td>\n",
       "      <td>NaN</td>\n",
       "      <td>Error - Correct Default Data</td>\n",
       "      <td>NaN</td>\n",
       "      <td>20.94</td>\n",
       "      <td>1.70</td>\n",
       "    </tr>\n",
       "    <tr>\n",
       "      <th>3372</th>\n",
       "      <td>50223</td>\n",
       "      <td>2016</td>\n",
       "      <td>Nonresidential COS</td>\n",
       "      <td>Other</td>\n",
       "      <td>International district/Chinatown CC</td>\n",
       "      <td>719 8th Ave S</td>\n",
       "      <td>Seattle</td>\n",
       "      <td>WA</td>\n",
       "      <td>NaN</td>\n",
       "      <td>3558300000</td>\n",
       "      <td>...</td>\n",
       "      <td>1.162210e+05</td>\n",
       "      <td>3.965461e+05</td>\n",
       "      <td>5537.299805</td>\n",
       "      <td>5.537300e+05</td>\n",
       "      <td>False</td>\n",
       "      <td>NaN</td>\n",
       "      <td>Compliant</td>\n",
       "      <td>NaN</td>\n",
       "      <td>32.17</td>\n",
       "      <td>2.01</td>\n",
       "    </tr>\n",
       "    <tr>\n",
       "      <th>3373</th>\n",
       "      <td>50224</td>\n",
       "      <td>2016</td>\n",
       "      <td>Nonresidential COS</td>\n",
       "      <td>Other</td>\n",
       "      <td>Queen Anne Pool</td>\n",
       "      <td>1920 1st Ave W</td>\n",
       "      <td>Seattle</td>\n",
       "      <td>WA</td>\n",
       "      <td>NaN</td>\n",
       "      <td>1794501150</td>\n",
       "      <td>...</td>\n",
       "      <td>5.252517e+05</td>\n",
       "      <td>1.792159e+06</td>\n",
       "      <td>39737.390630</td>\n",
       "      <td>3.973739e+06</td>\n",
       "      <td>False</td>\n",
       "      <td>NaN</td>\n",
       "      <td>Compliant</td>\n",
       "      <td>NaN</td>\n",
       "      <td>223.54</td>\n",
       "      <td>16.99</td>\n",
       "    </tr>\n",
       "    <tr>\n",
       "      <th>3374</th>\n",
       "      <td>50225</td>\n",
       "      <td>2016</td>\n",
       "      <td>Nonresidential COS</td>\n",
       "      <td>Mixed Use Property</td>\n",
       "      <td>South Park Community Center</td>\n",
       "      <td>8319 8th Ave S</td>\n",
       "      <td>Seattle</td>\n",
       "      <td>WA</td>\n",
       "      <td>NaN</td>\n",
       "      <td>7883603155</td>\n",
       "      <td>...</td>\n",
       "      <td>1.022480e+05</td>\n",
       "      <td>3.488702e+05</td>\n",
       "      <td>3706.010010</td>\n",
       "      <td>3.706010e+05</td>\n",
       "      <td>False</td>\n",
       "      <td>NaN</td>\n",
       "      <td>Compliant</td>\n",
       "      <td>NaN</td>\n",
       "      <td>22.11</td>\n",
       "      <td>1.57</td>\n",
       "    </tr>\n",
       "    <tr>\n",
       "      <th>3375</th>\n",
       "      <td>50226</td>\n",
       "      <td>2016</td>\n",
       "      <td>Nonresidential COS</td>\n",
       "      <td>Mixed Use Property</td>\n",
       "      <td>Van Asselt Community Center</td>\n",
       "      <td>2820 S Myrtle St</td>\n",
       "      <td>Seattle</td>\n",
       "      <td>WA</td>\n",
       "      <td>NaN</td>\n",
       "      <td>7857002030</td>\n",
       "      <td>...</td>\n",
       "      <td>1.267744e+05</td>\n",
       "      <td>4.325542e+05</td>\n",
       "      <td>7203.419922</td>\n",
       "      <td>7.203420e+05</td>\n",
       "      <td>False</td>\n",
       "      <td>NaN</td>\n",
       "      <td>Compliant</td>\n",
       "      <td>NaN</td>\n",
       "      <td>41.27</td>\n",
       "      <td>2.26</td>\n",
       "    </tr>\n",
       "  </tbody>\n",
       "</table>\n",
       "<p>3376 rows × 46 columns</p>\n",
       "</div>"
      ],
      "text/plain": [
       "      OSEBuildingID  DataYear        BuildingType PrimaryPropertyType  \\\n",
       "0                 1      2016      NonResidential               Hotel   \n",
       "1                 2      2016      NonResidential               Hotel   \n",
       "2                 3      2016      NonResidential               Hotel   \n",
       "3                 5      2016      NonResidential               Hotel   \n",
       "4                 8      2016      NonResidential               Hotel   \n",
       "...             ...       ...                 ...                 ...   \n",
       "3371          50222      2016  Nonresidential COS              Office   \n",
       "3372          50223      2016  Nonresidential COS               Other   \n",
       "3373          50224      2016  Nonresidential COS               Other   \n",
       "3374          50225      2016  Nonresidential COS  Mixed Use Property   \n",
       "3375          50226      2016  Nonresidential COS  Mixed Use Property   \n",
       "\n",
       "                             PropertyName           Address     City State  \\\n",
       "0                    Mayflower park hotel     405 Olive way  Seattle    WA   \n",
       "1                         Paramount Hotel   724 Pine street  Seattle    WA   \n",
       "2                 5673-The Westin Seattle   1900 5th Avenue  Seattle    WA   \n",
       "3                               HOTEL MAX    620 STEWART ST  Seattle    WA   \n",
       "4             WARWICK SEATTLE HOTEL (ID8)     401 LENORA ST  Seattle    WA   \n",
       "...                                   ...               ...      ...   ...   \n",
       "3371                Horticulture building  1600 S Dakota St  Seattle    WA   \n",
       "3372  International district/Chinatown CC     719 8th Ave S  Seattle    WA   \n",
       "3373                      Queen Anne Pool    1920 1st Ave W  Seattle    WA   \n",
       "3374          South Park Community Center    8319 8th Ave S  Seattle    WA   \n",
       "3375          Van Asselt Community Center  2820 S Myrtle St  Seattle    WA   \n",
       "\n",
       "      ZipCode TaxParcelIdentificationNumber  ...  Electricity(kWh)  \\\n",
       "0     98101.0                    0659000030  ...      1.156514e+06   \n",
       "1     98101.0                    0659000220  ...      9.504252e+05   \n",
       "2     98101.0                    0659000475  ...      1.451544e+07   \n",
       "3     98101.0                    0659000640  ...      8.115253e+05   \n",
       "4     98121.0                    0659000970  ...      1.573449e+06   \n",
       "...       ...                           ...  ...               ...   \n",
       "3371      NaN                    1624049080  ...      1.536550e+05   \n",
       "3372      NaN                    3558300000  ...      1.162210e+05   \n",
       "3373      NaN                    1794501150  ...      5.252517e+05   \n",
       "3374      NaN                    7883603155  ...      1.022480e+05   \n",
       "3375      NaN                    7857002030  ...      1.267744e+05   \n",
       "\n",
       "     Electricity(kBtu)  NaturalGas(therms)  NaturalGas(kBtu)  DefaultData  \\\n",
       "0         3.946027e+06        12764.529300      1.276453e+06        False   \n",
       "1         3.242851e+06        51450.816410      5.145082e+06        False   \n",
       "2         4.952666e+07        14938.000000      1.493800e+06        False   \n",
       "3         2.768924e+06        18112.130860      1.811213e+06        False   \n",
       "4         5.368607e+06        88039.984380      8.803998e+06        False   \n",
       "...                ...                 ...               ...          ...   \n",
       "3371      5.242709e+05         3254.750244      3.254750e+05         True   \n",
       "3372      3.965461e+05         5537.299805      5.537300e+05        False   \n",
       "3373      1.792159e+06        39737.390630      3.973739e+06        False   \n",
       "3374      3.488702e+05         3706.010010      3.706010e+05        False   \n",
       "3375      4.325542e+05         7203.419922      7.203420e+05        False   \n",
       "\n",
       "      Comments              ComplianceStatus  Outlier  TotalGHGEmissions  \\\n",
       "0          NaN                     Compliant      NaN             249.98   \n",
       "1          NaN                     Compliant      NaN             295.86   \n",
       "2          NaN                     Compliant      NaN            2089.28   \n",
       "3          NaN                     Compliant      NaN             286.43   \n",
       "4          NaN                     Compliant      NaN             505.01   \n",
       "...        ...                           ...      ...                ...   \n",
       "3371       NaN  Error - Correct Default Data      NaN              20.94   \n",
       "3372       NaN                     Compliant      NaN              32.17   \n",
       "3373       NaN                     Compliant      NaN             223.54   \n",
       "3374       NaN                     Compliant      NaN              22.11   \n",
       "3375       NaN                     Compliant      NaN              41.27   \n",
       "\n",
       "      GHGEmissionsIntensity  \n",
       "0                      2.83  \n",
       "1                      2.86  \n",
       "2                      2.19  \n",
       "3                      4.67  \n",
       "4                      2.88  \n",
       "...                     ...  \n",
       "3371                   1.70  \n",
       "3372                   2.01  \n",
       "3373                  16.99  \n",
       "3374                   1.57  \n",
       "3375                   2.26  \n",
       "\n",
       "[3376 rows x 46 columns]"
      ]
     },
     "execution_count": 82,
     "metadata": {},
     "output_type": "execute_result"
    }
   ],
   "source": [
    "df"
   ]
  },
  {
   "cell_type": "code",
   "execution_count": 83,
   "metadata": {},
   "outputs": [
    {
     "data": {
      "text/html": [
       "<div>\n",
       "<style scoped>\n",
       "    .dataframe tbody tr th:only-of-type {\n",
       "        vertical-align: middle;\n",
       "    }\n",
       "\n",
       "    .dataframe tbody tr th {\n",
       "        vertical-align: top;\n",
       "    }\n",
       "\n",
       "    .dataframe thead th {\n",
       "        text-align: right;\n",
       "    }\n",
       "</style>\n",
       "<table border=\"1\" class=\"dataframe\">\n",
       "  <thead>\n",
       "    <tr style=\"text-align: right;\">\n",
       "      <th></th>\n",
       "      <th>OSEBuildingID</th>\n",
       "      <th>DataYear</th>\n",
       "      <th>BuildingType</th>\n",
       "      <th>PrimaryPropertyType</th>\n",
       "      <th>PropertyName</th>\n",
       "      <th>TaxParcelIdentificationNumber</th>\n",
       "      <th>Location</th>\n",
       "      <th>CouncilDistrictCode</th>\n",
       "      <th>Neighborhood</th>\n",
       "      <th>YearBuilt</th>\n",
       "      <th>...</th>\n",
       "      <th>GHGEmissionsIntensity(kgCO2e/ft2)</th>\n",
       "      <th>DefaultData</th>\n",
       "      <th>Comment</th>\n",
       "      <th>ComplianceStatus</th>\n",
       "      <th>Outlier</th>\n",
       "      <th>2010 Census Tracts</th>\n",
       "      <th>Seattle Police Department Micro Community Policing Plan Areas</th>\n",
       "      <th>City Council Districts</th>\n",
       "      <th>SPD Beats</th>\n",
       "      <th>Zip Codes</th>\n",
       "    </tr>\n",
       "  </thead>\n",
       "  <tbody>\n",
       "    <tr>\n",
       "      <th>0</th>\n",
       "      <td>1</td>\n",
       "      <td>2015</td>\n",
       "      <td>NonResidential</td>\n",
       "      <td>Hotel</td>\n",
       "      <td>MAYFLOWER PARK HOTEL</td>\n",
       "      <td>659000030</td>\n",
       "      <td>{'latitude': '47.61219025', 'longitude': '-122...</td>\n",
       "      <td>7</td>\n",
       "      <td>DOWNTOWN</td>\n",
       "      <td>1927</td>\n",
       "      <td>...</td>\n",
       "      <td>2.64</td>\n",
       "      <td>No</td>\n",
       "      <td>NaN</td>\n",
       "      <td>Compliant</td>\n",
       "      <td>NaN</td>\n",
       "      <td>NaN</td>\n",
       "      <td>14.0</td>\n",
       "      <td>NaN</td>\n",
       "      <td>31.0</td>\n",
       "      <td>18081</td>\n",
       "    </tr>\n",
       "    <tr>\n",
       "      <th>1</th>\n",
       "      <td>2</td>\n",
       "      <td>2015</td>\n",
       "      <td>NonResidential</td>\n",
       "      <td>Hotel</td>\n",
       "      <td>PARAMOUNT HOTEL</td>\n",
       "      <td>659000220</td>\n",
       "      <td>{'latitude': '47.61310583', 'longitude': '-122...</td>\n",
       "      <td>7</td>\n",
       "      <td>DOWNTOWN</td>\n",
       "      <td>1996</td>\n",
       "      <td>...</td>\n",
       "      <td>2.38</td>\n",
       "      <td>No</td>\n",
       "      <td>NaN</td>\n",
       "      <td>Compliant</td>\n",
       "      <td>NaN</td>\n",
       "      <td>NaN</td>\n",
       "      <td>14.0</td>\n",
       "      <td>NaN</td>\n",
       "      <td>31.0</td>\n",
       "      <td>18081</td>\n",
       "    </tr>\n",
       "    <tr>\n",
       "      <th>2</th>\n",
       "      <td>3</td>\n",
       "      <td>2015</td>\n",
       "      <td>NonResidential</td>\n",
       "      <td>Hotel</td>\n",
       "      <td>WESTIN HOTEL</td>\n",
       "      <td>659000475</td>\n",
       "      <td>{'latitude': '47.61334897', 'longitude': '-122...</td>\n",
       "      <td>7</td>\n",
       "      <td>DOWNTOWN</td>\n",
       "      <td>1969</td>\n",
       "      <td>...</td>\n",
       "      <td>1.92</td>\n",
       "      <td>Yes</td>\n",
       "      <td>NaN</td>\n",
       "      <td>Compliant</td>\n",
       "      <td>NaN</td>\n",
       "      <td>NaN</td>\n",
       "      <td>56.0</td>\n",
       "      <td>NaN</td>\n",
       "      <td>31.0</td>\n",
       "      <td>18081</td>\n",
       "    </tr>\n",
       "    <tr>\n",
       "      <th>3</th>\n",
       "      <td>5</td>\n",
       "      <td>2015</td>\n",
       "      <td>NonResidential</td>\n",
       "      <td>Hotel</td>\n",
       "      <td>HOTEL MAX</td>\n",
       "      <td>659000640</td>\n",
       "      <td>{'latitude': '47.61421585', 'longitude': '-122...</td>\n",
       "      <td>7</td>\n",
       "      <td>DOWNTOWN</td>\n",
       "      <td>1926</td>\n",
       "      <td>...</td>\n",
       "      <td>31.38</td>\n",
       "      <td>No</td>\n",
       "      <td>NaN</td>\n",
       "      <td>Compliant</td>\n",
       "      <td>High Outlier</td>\n",
       "      <td>NaN</td>\n",
       "      <td>56.0</td>\n",
       "      <td>NaN</td>\n",
       "      <td>31.0</td>\n",
       "      <td>18081</td>\n",
       "    </tr>\n",
       "    <tr>\n",
       "      <th>4</th>\n",
       "      <td>8</td>\n",
       "      <td>2015</td>\n",
       "      <td>NonResidential</td>\n",
       "      <td>Hotel</td>\n",
       "      <td>WARWICK SEATTLE HOTEL</td>\n",
       "      <td>659000970</td>\n",
       "      <td>{'latitude': '47.6137544', 'longitude': '-122....</td>\n",
       "      <td>7</td>\n",
       "      <td>DOWNTOWN</td>\n",
       "      <td>1980</td>\n",
       "      <td>...</td>\n",
       "      <td>4.02</td>\n",
       "      <td>No</td>\n",
       "      <td>NaN</td>\n",
       "      <td>Compliant</td>\n",
       "      <td>NaN</td>\n",
       "      <td>NaN</td>\n",
       "      <td>56.0</td>\n",
       "      <td>NaN</td>\n",
       "      <td>31.0</td>\n",
       "      <td>19576</td>\n",
       "    </tr>\n",
       "    <tr>\n",
       "      <th>...</th>\n",
       "      <td>...</td>\n",
       "      <td>...</td>\n",
       "      <td>...</td>\n",
       "      <td>...</td>\n",
       "      <td>...</td>\n",
       "      <td>...</td>\n",
       "      <td>...</td>\n",
       "      <td>...</td>\n",
       "      <td>...</td>\n",
       "      <td>...</td>\n",
       "      <td>...</td>\n",
       "      <td>...</td>\n",
       "      <td>...</td>\n",
       "      <td>...</td>\n",
       "      <td>...</td>\n",
       "      <td>...</td>\n",
       "      <td>...</td>\n",
       "      <td>...</td>\n",
       "      <td>...</td>\n",
       "      <td>...</td>\n",
       "      <td>...</td>\n",
       "    </tr>\n",
       "    <tr>\n",
       "      <th>3335</th>\n",
       "      <td>50049</td>\n",
       "      <td>2015</td>\n",
       "      <td>Multifamily LR (1-4)</td>\n",
       "      <td>Low-Rise Multifamily</td>\n",
       "      <td>PACIFIC CENTER CONDOMINIUM</td>\n",
       "      <td>6599950000</td>\n",
       "      <td>{'latitude': '47.59950256', 'longitude': '-122...</td>\n",
       "      <td>2</td>\n",
       "      <td>DOWNTOWN</td>\n",
       "      <td>2000</td>\n",
       "      <td>...</td>\n",
       "      <td>0.07</td>\n",
       "      <td>No</td>\n",
       "      <td>NaN</td>\n",
       "      <td>Compliant</td>\n",
       "      <td>NaN</td>\n",
       "      <td>NaN</td>\n",
       "      <td>26.0</td>\n",
       "      <td>NaN</td>\n",
       "      <td>16.0</td>\n",
       "      <td>18379</td>\n",
       "    </tr>\n",
       "    <tr>\n",
       "      <th>3336</th>\n",
       "      <td>50055</td>\n",
       "      <td>2015</td>\n",
       "      <td>Multifamily MR (5-9)</td>\n",
       "      <td>Mid-Rise Multifamily</td>\n",
       "      <td>IDENTITY APTS 4123</td>\n",
       "      <td>1142001670</td>\n",
       "      <td>{'latitude': '47.65752471', 'longitude': '-122...</td>\n",
       "      <td>4</td>\n",
       "      <td>NORTHEAST</td>\n",
       "      <td>2014</td>\n",
       "      <td>...</td>\n",
       "      <td>0.61</td>\n",
       "      <td>No</td>\n",
       "      <td>NaN</td>\n",
       "      <td>Compliant</td>\n",
       "      <td>NaN</td>\n",
       "      <td>NaN</td>\n",
       "      <td>60.0</td>\n",
       "      <td>NaN</td>\n",
       "      <td>38.0</td>\n",
       "      <td>18383</td>\n",
       "    </tr>\n",
       "    <tr>\n",
       "      <th>3337</th>\n",
       "      <td>50057</td>\n",
       "      <td>2015</td>\n",
       "      <td>Multifamily HR (10+)</td>\n",
       "      <td>High-Rise Multifamily</td>\n",
       "      <td>CIRRUS</td>\n",
       "      <td>660000575</td>\n",
       "      <td>{'latitude': '47.61649845', 'longitude': '-122...</td>\n",
       "      <td>7</td>\n",
       "      <td>DOWNTOWN</td>\n",
       "      <td>2015</td>\n",
       "      <td>...</td>\n",
       "      <td>1.89</td>\n",
       "      <td>No</td>\n",
       "      <td>NaN</td>\n",
       "      <td>Compliant</td>\n",
       "      <td>NaN</td>\n",
       "      <td>NaN</td>\n",
       "      <td>56.0</td>\n",
       "      <td>NaN</td>\n",
       "      <td>7.0</td>\n",
       "      <td>19576</td>\n",
       "    </tr>\n",
       "    <tr>\n",
       "      <th>3338</th>\n",
       "      <td>50058</td>\n",
       "      <td>2015</td>\n",
       "      <td>Multifamily LR (1-4)</td>\n",
       "      <td>Low-Rise Multifamily</td>\n",
       "      <td>WEDGEWOOD ESTATES BLDG A</td>\n",
       "      <td>6392001040</td>\n",
       "      <td>{'latitude': '47.68396954', 'longitude': '-122...</td>\n",
       "      <td>4</td>\n",
       "      <td>NORTHEAST</td>\n",
       "      <td>1981</td>\n",
       "      <td>...</td>\n",
       "      <td>0.04</td>\n",
       "      <td>No</td>\n",
       "      <td>NaN</td>\n",
       "      <td>Compliant</td>\n",
       "      <td>NaN</td>\n",
       "      <td>NaN</td>\n",
       "      <td>55.0</td>\n",
       "      <td>NaN</td>\n",
       "      <td>48.0</td>\n",
       "      <td>18792</td>\n",
       "    </tr>\n",
       "    <tr>\n",
       "      <th>3339</th>\n",
       "      <td>50059</td>\n",
       "      <td>2015</td>\n",
       "      <td>Multifamily LR (1-4)</td>\n",
       "      <td>Low-Rise Multifamily</td>\n",
       "      <td>WEDGEWOOD ESTATES BLDG B</td>\n",
       "      <td>6392001040</td>\n",
       "      <td>{'latitude': '47.68396954', 'longitude': '-122...</td>\n",
       "      <td>4</td>\n",
       "      <td>NORTHEAST</td>\n",
       "      <td>1981</td>\n",
       "      <td>...</td>\n",
       "      <td>0.05</td>\n",
       "      <td>No</td>\n",
       "      <td>NaN</td>\n",
       "      <td>Compliant</td>\n",
       "      <td>NaN</td>\n",
       "      <td>NaN</td>\n",
       "      <td>55.0</td>\n",
       "      <td>NaN</td>\n",
       "      <td>48.0</td>\n",
       "      <td>18792</td>\n",
       "    </tr>\n",
       "  </tbody>\n",
       "</table>\n",
       "<p>3340 rows × 47 columns</p>\n",
       "</div>"
      ],
      "text/plain": [
       "      OSEBuildingID  DataYear          BuildingType    PrimaryPropertyType  \\\n",
       "0                 1      2015        NonResidential                  Hotel   \n",
       "1                 2      2015        NonResidential                  Hotel   \n",
       "2                 3      2015        NonResidential                  Hotel   \n",
       "3                 5      2015        NonResidential                  Hotel   \n",
       "4                 8      2015        NonResidential                  Hotel   \n",
       "...             ...       ...                   ...                    ...   \n",
       "3335          50049      2015  Multifamily LR (1-4)   Low-Rise Multifamily   \n",
       "3336          50055      2015  Multifamily MR (5-9)   Mid-Rise Multifamily   \n",
       "3337          50057      2015  Multifamily HR (10+)  High-Rise Multifamily   \n",
       "3338          50058      2015  Multifamily LR (1-4)   Low-Rise Multifamily   \n",
       "3339          50059      2015  Multifamily LR (1-4)   Low-Rise Multifamily   \n",
       "\n",
       "                    PropertyName TaxParcelIdentificationNumber  \\\n",
       "0           MAYFLOWER PARK HOTEL                     659000030   \n",
       "1                PARAMOUNT HOTEL                     659000220   \n",
       "2                   WESTIN HOTEL                     659000475   \n",
       "3                      HOTEL MAX                     659000640   \n",
       "4          WARWICK SEATTLE HOTEL                     659000970   \n",
       "...                          ...                           ...   \n",
       "3335  PACIFIC CENTER CONDOMINIUM                    6599950000   \n",
       "3336          IDENTITY APTS 4123                    1142001670   \n",
       "3337                      CIRRUS                     660000575   \n",
       "3338    WEDGEWOOD ESTATES BLDG A                    6392001040   \n",
       "3339    WEDGEWOOD ESTATES BLDG B                    6392001040   \n",
       "\n",
       "                                               Location  CouncilDistrictCode  \\\n",
       "0     {'latitude': '47.61219025', 'longitude': '-122...                    7   \n",
       "1     {'latitude': '47.61310583', 'longitude': '-122...                    7   \n",
       "2     {'latitude': '47.61334897', 'longitude': '-122...                    7   \n",
       "3     {'latitude': '47.61421585', 'longitude': '-122...                    7   \n",
       "4     {'latitude': '47.6137544', 'longitude': '-122....                    7   \n",
       "...                                                 ...                  ...   \n",
       "3335  {'latitude': '47.59950256', 'longitude': '-122...                    2   \n",
       "3336  {'latitude': '47.65752471', 'longitude': '-122...                    4   \n",
       "3337  {'latitude': '47.61649845', 'longitude': '-122...                    7   \n",
       "3338  {'latitude': '47.68396954', 'longitude': '-122...                    4   \n",
       "3339  {'latitude': '47.68396954', 'longitude': '-122...                    4   \n",
       "\n",
       "     Neighborhood  YearBuilt  ...  GHGEmissionsIntensity(kgCO2e/ft2)  \\\n",
       "0        DOWNTOWN       1927  ...                               2.64   \n",
       "1        DOWNTOWN       1996  ...                               2.38   \n",
       "2        DOWNTOWN       1969  ...                               1.92   \n",
       "3        DOWNTOWN       1926  ...                              31.38   \n",
       "4        DOWNTOWN       1980  ...                               4.02   \n",
       "...           ...        ...  ...                                ...   \n",
       "3335     DOWNTOWN       2000  ...                               0.07   \n",
       "3336    NORTHEAST       2014  ...                               0.61   \n",
       "3337     DOWNTOWN       2015  ...                               1.89   \n",
       "3338    NORTHEAST       1981  ...                               0.04   \n",
       "3339    NORTHEAST       1981  ...                               0.05   \n",
       "\n",
       "      DefaultData  Comment  ComplianceStatus       Outlier 2010 Census Tracts  \\\n",
       "0              No      NaN         Compliant           NaN                NaN   \n",
       "1              No      NaN         Compliant           NaN                NaN   \n",
       "2             Yes      NaN         Compliant           NaN                NaN   \n",
       "3              No      NaN         Compliant  High Outlier                NaN   \n",
       "4              No      NaN         Compliant           NaN                NaN   \n",
       "...           ...      ...               ...           ...                ...   \n",
       "3335           No      NaN         Compliant           NaN                NaN   \n",
       "3336           No      NaN         Compliant           NaN                NaN   \n",
       "3337           No      NaN         Compliant           NaN                NaN   \n",
       "3338           No      NaN         Compliant           NaN                NaN   \n",
       "3339           No      NaN         Compliant           NaN                NaN   \n",
       "\n",
       "     Seattle Police Department Micro Community Policing Plan Areas  \\\n",
       "0                                                  14.0              \n",
       "1                                                  14.0              \n",
       "2                                                  56.0              \n",
       "3                                                  56.0              \n",
       "4                                                  56.0              \n",
       "...                                                 ...              \n",
       "3335                                               26.0              \n",
       "3336                                               60.0              \n",
       "3337                                               56.0              \n",
       "3338                                               55.0              \n",
       "3339                                               55.0              \n",
       "\n",
       "      City Council Districts SPD Beats  Zip Codes  \n",
       "0                        NaN      31.0      18081  \n",
       "1                        NaN      31.0      18081  \n",
       "2                        NaN      31.0      18081  \n",
       "3                        NaN      31.0      18081  \n",
       "4                        NaN      31.0      19576  \n",
       "...                      ...       ...        ...  \n",
       "3335                     NaN      16.0      18379  \n",
       "3336                     NaN      38.0      18383  \n",
       "3337                     NaN       7.0      19576  \n",
       "3338                     NaN      48.0      18792  \n",
       "3339                     NaN      48.0      18792  \n",
       "\n",
       "[3340 rows x 47 columns]"
      ]
     },
     "execution_count": 83,
     "metadata": {},
     "output_type": "execute_result"
    }
   ],
   "source": [
    "df1"
   ]
  },
  {
   "cell_type": "markdown",
   "metadata": {},
   "source": [
    "###### Vérification clé primaire"
   ]
  },
  {
   "cell_type": "code",
   "execution_count": 84,
   "metadata": {},
   "outputs": [
    {
     "data": {
      "text/plain": [
       "OSEBuildingID                      3376\n",
       "DataYear                              1\n",
       "BuildingType                          8\n",
       "PrimaryPropertyType                  24\n",
       "PropertyName                       3362\n",
       "Address                            3354\n",
       "City                                  1\n",
       "State                                 1\n",
       "ZipCode                              55\n",
       "TaxParcelIdentificationNumber      3268\n",
       "CouncilDistrictCode                   7\n",
       "Neighborhood                         19\n",
       "Latitude                           2876\n",
       "Longitude                          2656\n",
       "YearBuilt                           113\n",
       "NumberofBuildings                    17\n",
       "NumberofFloors                       50\n",
       "PropertyGFATotal                   3195\n",
       "PropertyGFAParking                  496\n",
       "PropertyGFABuilding(s)             3193\n",
       "ListOfAllPropertyUseTypes           466\n",
       "LargestPropertyUseType               56\n",
       "LargestPropertyUseTypeGFA          3122\n",
       "SecondLargestPropertyUseType         50\n",
       "SecondLargestPropertyUseTypeGFA    1352\n",
       "ThirdLargestPropertyUseType          44\n",
       "ThirdLargestPropertyUseTypeGFA      501\n",
       "YearsENERGYSTARCertified             65\n",
       "ENERGYSTARScore                     100\n",
       "SiteEUI(kBtu/sf)                   1085\n",
       "SiteEUIWN(kBtu/sf)                 1105\n",
       "SourceEUI(kBtu/sf)                 1648\n",
       "SourceEUIWN(kBtu/sf)               1694\n",
       "SiteEnergyUse(kBtu)                3354\n",
       "SiteEnergyUseWN(kBtu)              3341\n",
       "SteamUse(kBtu)                      131\n",
       "Electricity(kWh)                   3352\n",
       "Electricity(kBtu)                  3351\n",
       "NaturalGas(therms)                 2109\n",
       "NaturalGas(kBtu)                   2109\n",
       "DefaultData                           2\n",
       "Comments                              0\n",
       "ComplianceStatus                      4\n",
       "Outlier                               2\n",
       "TotalGHGEmissions                  2818\n",
       "GHGEmissionsIntensity               511\n",
       "dtype: int64"
      ]
     },
     "execution_count": 84,
     "metadata": {},
     "output_type": "execute_result"
    }
   ],
   "source": [
    "df.nunique()"
   ]
  },
  {
   "cell_type": "code",
   "execution_count": 85,
   "metadata": {
    "scrolled": true
   },
   "outputs": [
    {
     "data": {
      "text/plain": [
       "OSEBuildingID                                                    3340\n",
       "DataYear                                                            1\n",
       "BuildingType                                                        7\n",
       "PrimaryPropertyType                                                27\n",
       "PropertyName                                                     3287\n",
       "TaxParcelIdentificationNumber                                    3245\n",
       "Location                                                         3298\n",
       "CouncilDistrictCode                                                 7\n",
       "Neighborhood                                                       13\n",
       "YearBuilt                                                         113\n",
       "NumberofBuildings                                                  10\n",
       "NumberofFloors                                                     50\n",
       "PropertyGFATotal                                                 3150\n",
       "PropertyGFAParking                                                908\n",
       "PropertyGFABuilding(s)                                           3145\n",
       "ListOfAllPropertyUseTypes                                         442\n",
       "LargestPropertyUseType                                             56\n",
       "LargestPropertyUseTypeGFA                                        2979\n",
       "SecondLargestPropertyUseType                                       47\n",
       "SecondLargestPropertyUseTypeGFA                                  1270\n",
       "ThirdLargestPropertyUseType                                        41\n",
       "ThirdLargestPropertyUseTypeGFA                                    474\n",
       "YearsENERGYSTARCertified                                           61\n",
       "ENERGYSTARScore                                                   100\n",
       "SiteEUI(kBtu/sf)                                                 1072\n",
       "SiteEUIWN(kBtu/sf)                                               1115\n",
       "SourceEUI(kBtu/sf)                                               1673\n",
       "SourceEUIWN(kBtu/sf)                                             1687\n",
       "SiteEnergyUse(kBtu)                                              3326\n",
       "SiteEnergyUseWN(kBtu)                                            3319\n",
       "SteamUse(kBtu)                                                    131\n",
       "Electricity(kWh)                                                 3327\n",
       "Electricity(kBtu)                                                3329\n",
       "NaturalGas(therms)                                               1995\n",
       "NaturalGas(kBtu)                                                 2073\n",
       "OtherFuelUse(kBtu)                                                 18\n",
       "GHGEmissions(MetricTonsCO2e)                                     2763\n",
       "GHGEmissionsIntensity(kgCO2e/ft2)                                 471\n",
       "DefaultData                                                         2\n",
       "Comment                                                            13\n",
       "ComplianceStatus                                                    2\n",
       "Outlier                                                             2\n",
       "2010 Census Tracts                                                 13\n",
       "Seattle Police Department Micro Community Policing Plan Areas      61\n",
       "City Council Districts                                              2\n",
       "SPD Beats                                                          51\n",
       "Zip Codes                                                          29\n",
       "dtype: int64"
      ]
     },
     "execution_count": 85,
     "metadata": {},
     "output_type": "execute_result"
    }
   ],
   "source": [
    "df1.nunique()"
   ]
  },
  {
   "cell_type": "markdown",
   "metadata": {},
   "source": [
    "Il y a autant de OSEBuildingID que d'échantillons dans chaque dataframe"
   ]
  },
  {
   "cell_type": "markdown",
   "metadata": {},
   "source": [
    "Vérifions que chaque clé OSEBuildingID qui est contenue dans les deux dataframes correspond au même objet en comparant par exemple le YearBuilt"
   ]
  },
  {
   "cell_type": "code",
   "execution_count": 86,
   "metadata": {},
   "outputs": [
    {
     "name": "stdout",
     "output_type": "stream",
     "text": [
      "      OSEBuildingID  YearBuilt\n",
      "0                 1       1927\n",
      "1                 2       1996\n",
      "2                 3       1969\n",
      "3                 5       1926\n",
      "4                 8       1980\n",
      "...             ...        ...\n",
      "3371          50222       1990\n",
      "3372          50223       2004\n",
      "3373          50224       1974\n",
      "3374          50225       1989\n",
      "3375          50226       1938\n",
      "\n",
      "[3376 rows x 2 columns]\n",
      "      OSEBuildingID  YearBuilt\n",
      "0                 1       1927\n",
      "1                 2       1996\n",
      "2                 3       1969\n",
      "3                 5       1926\n",
      "4                 8       1980\n",
      "...             ...        ...\n",
      "3279          50049       2000\n",
      "3280          50055       2014\n",
      "3281          50057       2015\n",
      "3282          50058       1981\n",
      "3283          50059       1981\n",
      "\n",
      "[3284 rows x 2 columns]\n",
      "      OSEBuildingID  YearBuilt\n",
      "0                 1       1927\n",
      "1                 2       1996\n",
      "2                 3       1969\n",
      "3                 5       1926\n",
      "4                 8       1980\n",
      "...             ...        ...\n",
      "3279          50049       2000\n",
      "3280          50055       2014\n",
      "3281          50057       2015\n",
      "3282          50058       1981\n",
      "3283          50059       1981\n",
      "\n",
      "[3284 rows x 2 columns]\n"
     ]
    }
   ],
   "source": [
    "dftest=df[['OSEBuildingID','YearBuilt']]\n",
    "print(dftest)\n",
    "df_iter=[]\n",
    "df_iter2=[]\n",
    "for i in dftest['OSEBuildingID']:\n",
    "    dftestiter1=df1[df1['OSEBuildingID']==i]\n",
    "    dftestiter2=df[df['OSEBuildingID']==i]\n",
    "    if not dftestiter1.empty:\n",
    "        df_iter.append(dftestiter1[['OSEBuildingID','YearBuilt']])\n",
    "        df_iter2.append(dftestiter2[['OSEBuildingID','YearBuilt']])\n",
    "        \n",
    "dftest2=pd.concat(df_iter,ignore_index=True)\n",
    "dftest1=pd.concat(df_iter2,ignore_index=True)\n",
    "print(dftest2)\n",
    "print(dftest1)"
   ]
  },
  {
   "cell_type": "code",
   "execution_count": 87,
   "metadata": {},
   "outputs": [
    {
     "data": {
      "text/plain": [
       "True"
      ]
     },
     "execution_count": 87,
     "metadata": {},
     "output_type": "execute_result"
    }
   ],
   "source": [
    "dftest1.equals(dftest2)"
   ]
  },
  {
   "cell_type": "markdown",
   "metadata": {},
   "source": [
    "##### Vérification et changement des variables différentes/doublons"
   ]
  },
  {
   "cell_type": "markdown",
   "metadata": {},
   "source": [
    "PrimaryPropertyType"
   ]
  },
  {
   "cell_type": "code",
   "execution_count": 88,
   "metadata": {},
   "outputs": [],
   "source": [
    "for i in range(len(df1)):\n",
    "    if df1.loc[i,'PrimaryPropertyType']=='Warehouse':\n",
    "        df1.loc[i,'PrimaryPropertyType']='Non-Refrigerated Warehouse'\n",
    "    if df1.loc[i,'PrimaryPropertyType']=='Distribution Center\\n':\n",
    "        df1.loc[i,'PrimaryPropertyType']='Distribution Center'\n",
    "    if df1.loc[i,'PrimaryPropertyType']=='Supermarket/Grocery Store':\n",
    "        df1.loc[i,'PrimaryPropertyType']='Supermarket / Grocery Store'\n",
    "    if df1.loc[i,'PrimaryPropertyType']=='Self-Storage Facility\\n':\n",
    "        df1.loc[i,'PrimaryPropertyType']='Self-Storage Facility'\n",
    "    if df1.loc[i,'PrimaryPropertyType']=='Restaurant\\n':\n",
    "        df1.loc[i,'PrimaryPropertyType']='Restaurant'\n",
    "    if df1.loc[i,'PrimaryPropertyType']=='Non-Refrigerated Warehouse':\n",
    "        df1.loc[i,'PrimaryPropertyType']='Warehouse'\n",
    "    if df1.loc[i,'PrimaryPropertyType']=='SPS-District K-12':\n",
    "        df1.loc[i,'PrimaryPropertyType']='K-12 School'\n",
    "for i in range(len(df1)):\n",
    "    if df.loc[i,'PrimaryPropertyType']=='SPS-District K-12':\n",
    "        df.loc[i,'PrimaryPropertyType']='K-12 School'"
   ]
  },
  {
   "cell_type": "code",
   "execution_count": 89,
   "metadata": {},
   "outputs": [
    {
     "data": {
      "text/plain": [
       "Low-Rise Multifamily           987\n",
       "Mid-Rise Multifamily           564\n",
       "Small- and Mid-Sized Office    293\n",
       "Other                          256\n",
       "Warehouse                      187\n",
       "Large Office                   173\n",
       "K-12 School                    139\n",
       "Mixed Use Property             133\n",
       "High-Rise Multifamily          105\n",
       "Retail Store                    91\n",
       "Hotel                           77\n",
       "Worship Facility                71\n",
       "Distribution Center             53\n",
       "Senior Care Community           45\n",
       "Supermarket / Grocery Store     40\n",
       "Medical Office                  39\n",
       "Self-Storage Facility           28\n",
       "University                      25\n",
       "Residence Hall                  23\n",
       "Restaurant                      12\n",
       "Refrigerated Warehouse          12\n",
       "Laboratory                      10\n",
       "Hospital                        10\n",
       "Office                           3\n",
       "Name: PrimaryPropertyType, dtype: int64"
      ]
     },
     "execution_count": 89,
     "metadata": {},
     "output_type": "execute_result"
    }
   ],
   "source": [
    "df['PrimaryPropertyType'].value_counts()"
   ]
  },
  {
   "cell_type": "markdown",
   "metadata": {},
   "source": [
    "#### Ajout des valeurs de 2015 à 2016"
   ]
  },
  {
   "cell_type": "markdown",
   "metadata": {},
   "source": [
    "Nous allons renommner colonnes préalablement à l'ajout des valeurs de 2015 à 2016"
   ]
  },
  {
   "cell_type": "code",
   "execution_count": 90,
   "metadata": {},
   "outputs": [],
   "source": [
    "df1=df1.rename(columns={'GHGEmissions(MetricTonsCO2e)':'TotalGHGEmissions','GHGEmissionsIntensity(kgCO2e/ft2)':'GHGEmissionsIntensity','Comment':'Comments','Zip Codes':'ZipCode'})"
   ]
  },
  {
   "cell_type": "markdown",
   "metadata": {},
   "source": [
    "Ajoutons les données manquantes"
   ]
  },
  {
   "cell_type": "markdown",
   "metadata": {},
   "source": [
    "Nous allons d'abord regarder les données présentes en 2015 et 2016"
   ]
  },
  {
   "cell_type": "code",
   "execution_count": 91,
   "metadata": {},
   "outputs": [],
   "source": [
    "for i in df1.index:\n",
    "    id=df1.loc[i,'OSEBuildingID']\n",
    "    if df[df['OSEBuildingID']==id].empty:\n",
    "        df=pd.concat([df,df1[df1['OSEBuildingID']==id].reset_index()],axis=0)\n",
    "df=df.drop(['index'],axis=1)"
   ]
  },
  {
   "cell_type": "code",
   "execution_count": 92,
   "metadata": {},
   "outputs": [
    {
     "data": {
      "text/html": [
       "<div>\n",
       "<style scoped>\n",
       "    .dataframe tbody tr th:only-of-type {\n",
       "        vertical-align: middle;\n",
       "    }\n",
       "\n",
       "    .dataframe tbody tr th {\n",
       "        vertical-align: top;\n",
       "    }\n",
       "\n",
       "    .dataframe thead th {\n",
       "        text-align: right;\n",
       "    }\n",
       "</style>\n",
       "<table border=\"1\" class=\"dataframe\">\n",
       "  <thead>\n",
       "    <tr style=\"text-align: right;\">\n",
       "      <th></th>\n",
       "      <th>OSEBuildingID</th>\n",
       "      <th>DataYear</th>\n",
       "      <th>BuildingType</th>\n",
       "      <th>PrimaryPropertyType</th>\n",
       "      <th>PropertyName</th>\n",
       "      <th>Address</th>\n",
       "      <th>City</th>\n",
       "      <th>State</th>\n",
       "      <th>ZipCode</th>\n",
       "      <th>TaxParcelIdentificationNumber</th>\n",
       "      <th>...</th>\n",
       "      <th>ComplianceStatus</th>\n",
       "      <th>Outlier</th>\n",
       "      <th>TotalGHGEmissions</th>\n",
       "      <th>GHGEmissionsIntensity</th>\n",
       "      <th>Location</th>\n",
       "      <th>OtherFuelUse(kBtu)</th>\n",
       "      <th>2010 Census Tracts</th>\n",
       "      <th>Seattle Police Department Micro Community Policing Plan Areas</th>\n",
       "      <th>City Council Districts</th>\n",
       "      <th>SPD Beats</th>\n",
       "    </tr>\n",
       "  </thead>\n",
       "  <tbody>\n",
       "    <tr>\n",
       "      <th>0</th>\n",
       "      <td>1</td>\n",
       "      <td>2016</td>\n",
       "      <td>NonResidential</td>\n",
       "      <td>Hotel</td>\n",
       "      <td>Mayflower park hotel</td>\n",
       "      <td>405 Olive way</td>\n",
       "      <td>Seattle</td>\n",
       "      <td>WA</td>\n",
       "      <td>98101.0</td>\n",
       "      <td>0659000030</td>\n",
       "      <td>...</td>\n",
       "      <td>Compliant</td>\n",
       "      <td>NaN</td>\n",
       "      <td>249.98</td>\n",
       "      <td>2.83</td>\n",
       "      <td>NaN</td>\n",
       "      <td>NaN</td>\n",
       "      <td>NaN</td>\n",
       "      <td>NaN</td>\n",
       "      <td>NaN</td>\n",
       "      <td>NaN</td>\n",
       "    </tr>\n",
       "    <tr>\n",
       "      <th>1</th>\n",
       "      <td>2</td>\n",
       "      <td>2016</td>\n",
       "      <td>NonResidential</td>\n",
       "      <td>Hotel</td>\n",
       "      <td>Paramount Hotel</td>\n",
       "      <td>724 Pine street</td>\n",
       "      <td>Seattle</td>\n",
       "      <td>WA</td>\n",
       "      <td>98101.0</td>\n",
       "      <td>0659000220</td>\n",
       "      <td>...</td>\n",
       "      <td>Compliant</td>\n",
       "      <td>NaN</td>\n",
       "      <td>295.86</td>\n",
       "      <td>2.86</td>\n",
       "      <td>NaN</td>\n",
       "      <td>NaN</td>\n",
       "      <td>NaN</td>\n",
       "      <td>NaN</td>\n",
       "      <td>NaN</td>\n",
       "      <td>NaN</td>\n",
       "    </tr>\n",
       "    <tr>\n",
       "      <th>2</th>\n",
       "      <td>3</td>\n",
       "      <td>2016</td>\n",
       "      <td>NonResidential</td>\n",
       "      <td>Hotel</td>\n",
       "      <td>5673-The Westin Seattle</td>\n",
       "      <td>1900 5th Avenue</td>\n",
       "      <td>Seattle</td>\n",
       "      <td>WA</td>\n",
       "      <td>98101.0</td>\n",
       "      <td>0659000475</td>\n",
       "      <td>...</td>\n",
       "      <td>Compliant</td>\n",
       "      <td>NaN</td>\n",
       "      <td>2089.28</td>\n",
       "      <td>2.19</td>\n",
       "      <td>NaN</td>\n",
       "      <td>NaN</td>\n",
       "      <td>NaN</td>\n",
       "      <td>NaN</td>\n",
       "      <td>NaN</td>\n",
       "      <td>NaN</td>\n",
       "    </tr>\n",
       "    <tr>\n",
       "      <th>3</th>\n",
       "      <td>5</td>\n",
       "      <td>2016</td>\n",
       "      <td>NonResidential</td>\n",
       "      <td>Hotel</td>\n",
       "      <td>HOTEL MAX</td>\n",
       "      <td>620 STEWART ST</td>\n",
       "      <td>Seattle</td>\n",
       "      <td>WA</td>\n",
       "      <td>98101.0</td>\n",
       "      <td>0659000640</td>\n",
       "      <td>...</td>\n",
       "      <td>Compliant</td>\n",
       "      <td>NaN</td>\n",
       "      <td>286.43</td>\n",
       "      <td>4.67</td>\n",
       "      <td>NaN</td>\n",
       "      <td>NaN</td>\n",
       "      <td>NaN</td>\n",
       "      <td>NaN</td>\n",
       "      <td>NaN</td>\n",
       "      <td>NaN</td>\n",
       "    </tr>\n",
       "    <tr>\n",
       "      <th>4</th>\n",
       "      <td>8</td>\n",
       "      <td>2016</td>\n",
       "      <td>NonResidential</td>\n",
       "      <td>Hotel</td>\n",
       "      <td>WARWICK SEATTLE HOTEL (ID8)</td>\n",
       "      <td>401 LENORA ST</td>\n",
       "      <td>Seattle</td>\n",
       "      <td>WA</td>\n",
       "      <td>98121.0</td>\n",
       "      <td>0659000970</td>\n",
       "      <td>...</td>\n",
       "      <td>Compliant</td>\n",
       "      <td>NaN</td>\n",
       "      <td>505.01</td>\n",
       "      <td>2.88</td>\n",
       "      <td>NaN</td>\n",
       "      <td>NaN</td>\n",
       "      <td>NaN</td>\n",
       "      <td>NaN</td>\n",
       "      <td>NaN</td>\n",
       "      <td>NaN</td>\n",
       "    </tr>\n",
       "    <tr>\n",
       "      <th>...</th>\n",
       "      <td>...</td>\n",
       "      <td>...</td>\n",
       "      <td>...</td>\n",
       "      <td>...</td>\n",
       "      <td>...</td>\n",
       "      <td>...</td>\n",
       "      <td>...</td>\n",
       "      <td>...</td>\n",
       "      <td>...</td>\n",
       "      <td>...</td>\n",
       "      <td>...</td>\n",
       "      <td>...</td>\n",
       "      <td>...</td>\n",
       "      <td>...</td>\n",
       "      <td>...</td>\n",
       "      <td>...</td>\n",
       "      <td>...</td>\n",
       "      <td>...</td>\n",
       "      <td>...</td>\n",
       "      <td>...</td>\n",
       "      <td>...</td>\n",
       "    </tr>\n",
       "    <tr>\n",
       "      <th>0</th>\n",
       "      <td>27985</td>\n",
       "      <td>2015</td>\n",
       "      <td>Multifamily LR (1-4)</td>\n",
       "      <td>Low-Rise Multifamily</td>\n",
       "      <td>LICTON SPRINGS APT</td>\n",
       "      <td>NaN</td>\n",
       "      <td>NaN</td>\n",
       "      <td>NaN</td>\n",
       "      <td>18377.0</td>\n",
       "      <td>4310701340</td>\n",
       "      <td>...</td>\n",
       "      <td>Compliant</td>\n",
       "      <td>NaN</td>\n",
       "      <td>4.88</td>\n",
       "      <td>0.05</td>\n",
       "      <td>{'latitude': '47.69838396', 'longitude': '-122...</td>\n",
       "      <td>0.0</td>\n",
       "      <td>NaN</td>\n",
       "      <td>46.0</td>\n",
       "      <td>NaN</td>\n",
       "      <td>34.0</td>\n",
       "    </tr>\n",
       "    <tr>\n",
       "      <th>0</th>\n",
       "      <td>28045</td>\n",
       "      <td>2015</td>\n",
       "      <td>Multifamily MR (5-9)</td>\n",
       "      <td>Mid-Rise Multifamily</td>\n",
       "      <td>TRESSA APARTMENTS BUILDING 1</td>\n",
       "      <td>NaN</td>\n",
       "      <td>NaN</td>\n",
       "      <td>NaN</td>\n",
       "      <td>19582.0</td>\n",
       "      <td>4340200000</td>\n",
       "      <td>...</td>\n",
       "      <td>Compliant</td>\n",
       "      <td>NaN</td>\n",
       "      <td>118.20</td>\n",
       "      <td>0.23</td>\n",
       "      <td>{'latitude': '47.7317276', 'longitude': '-122....</td>\n",
       "      <td>0.0</td>\n",
       "      <td>116.0</td>\n",
       "      <td>6.0</td>\n",
       "      <td>1.0</td>\n",
       "      <td>33.0</td>\n",
       "    </tr>\n",
       "    <tr>\n",
       "      <th>0</th>\n",
       "      <td>28064</td>\n",
       "      <td>2015</td>\n",
       "      <td>Multifamily LR (1-4)</td>\n",
       "      <td>Low-Rise Multifamily</td>\n",
       "      <td>THE VILLAGE WEST APTS</td>\n",
       "      <td>NaN</td>\n",
       "      <td>NaN</td>\n",
       "      <td>NaN</td>\n",
       "      <td>18385.0</td>\n",
       "      <td>4365700545</td>\n",
       "      <td>...</td>\n",
       "      <td>Compliant</td>\n",
       "      <td>NaN</td>\n",
       "      <td>8.72</td>\n",
       "      <td>0.08</td>\n",
       "      <td>{'latitude': '47.52141906', 'longitude': '-122...</td>\n",
       "      <td>0.0</td>\n",
       "      <td>NaN</td>\n",
       "      <td>54.0</td>\n",
       "      <td>NaN</td>\n",
       "      <td>14.0</td>\n",
       "    </tr>\n",
       "    <tr>\n",
       "      <th>0</th>\n",
       "      <td>49769</td>\n",
       "      <td>2015</td>\n",
       "      <td>Multifamily MR (5-9)</td>\n",
       "      <td>Mid-Rise Multifamily</td>\n",
       "      <td>Test MF High Use (ID 49769)</td>\n",
       "      <td>NaN</td>\n",
       "      <td>NaN</td>\n",
       "      <td>NaN</td>\n",
       "      <td>18377.0</td>\n",
       "      <td>NaN</td>\n",
       "      <td>...</td>\n",
       "      <td>Compliant</td>\n",
       "      <td>NaN</td>\n",
       "      <td>51.55</td>\n",
       "      <td>1.17</td>\n",
       "      <td>{'latitude': '47.6590538024902', 'longitude': ...</td>\n",
       "      <td>0.0</td>\n",
       "      <td>NaN</td>\n",
       "      <td>20.0</td>\n",
       "      <td>NaN</td>\n",
       "      <td>2.0</td>\n",
       "    </tr>\n",
       "    <tr>\n",
       "      <th>0</th>\n",
       "      <td>49859</td>\n",
       "      <td>2015</td>\n",
       "      <td>Campus</td>\n",
       "      <td>Other</td>\n",
       "      <td>AMGEN INC. MASTER CAMPUS</td>\n",
       "      <td>NaN</td>\n",
       "      <td>NaN</td>\n",
       "      <td>NaN</td>\n",
       "      <td>19575.0</td>\n",
       "      <td>7666201725</td>\n",
       "      <td>...</td>\n",
       "      <td>Compliant</td>\n",
       "      <td>NaN</td>\n",
       "      <td>4829.86</td>\n",
       "      <td>5.57</td>\n",
       "      <td>{'latitude': '47.62811223', 'longitude': '-122...</td>\n",
       "      <td>0.0</td>\n",
       "      <td>NaN</td>\n",
       "      <td>50.0</td>\n",
       "      <td>NaN</td>\n",
       "      <td>27.0</td>\n",
       "    </tr>\n",
       "  </tbody>\n",
       "</table>\n",
       "<p>3432 rows × 52 columns</p>\n",
       "</div>"
      ],
      "text/plain": [
       "    OSEBuildingID  DataYear          BuildingType   PrimaryPropertyType  \\\n",
       "0               1      2016        NonResidential                 Hotel   \n",
       "1               2      2016        NonResidential                 Hotel   \n",
       "2               3      2016        NonResidential                 Hotel   \n",
       "3               5      2016        NonResidential                 Hotel   \n",
       "4               8      2016        NonResidential                 Hotel   \n",
       "..            ...       ...                   ...                   ...   \n",
       "0           27985      2015  Multifamily LR (1-4)  Low-Rise Multifamily   \n",
       "0           28045      2015  Multifamily MR (5-9)  Mid-Rise Multifamily   \n",
       "0           28064      2015  Multifamily LR (1-4)  Low-Rise Multifamily   \n",
       "0           49769      2015  Multifamily MR (5-9)  Mid-Rise Multifamily   \n",
       "0           49859      2015                Campus                 Other   \n",
       "\n",
       "                    PropertyName          Address     City State  ZipCode  \\\n",
       "0           Mayflower park hotel    405 Olive way  Seattle    WA  98101.0   \n",
       "1                Paramount Hotel  724 Pine street  Seattle    WA  98101.0   \n",
       "2        5673-The Westin Seattle  1900 5th Avenue  Seattle    WA  98101.0   \n",
       "3                      HOTEL MAX   620 STEWART ST  Seattle    WA  98101.0   \n",
       "4    WARWICK SEATTLE HOTEL (ID8)    401 LENORA ST  Seattle    WA  98121.0   \n",
       "..                           ...              ...      ...   ...      ...   \n",
       "0             LICTON SPRINGS APT              NaN      NaN   NaN  18377.0   \n",
       "0   TRESSA APARTMENTS BUILDING 1              NaN      NaN   NaN  19582.0   \n",
       "0          THE VILLAGE WEST APTS              NaN      NaN   NaN  18385.0   \n",
       "0    Test MF High Use (ID 49769)              NaN      NaN   NaN  18377.0   \n",
       "0       AMGEN INC. MASTER CAMPUS              NaN      NaN   NaN  19575.0   \n",
       "\n",
       "   TaxParcelIdentificationNumber  ...  ComplianceStatus Outlier  \\\n",
       "0                     0659000030  ...         Compliant     NaN   \n",
       "1                     0659000220  ...         Compliant     NaN   \n",
       "2                     0659000475  ...         Compliant     NaN   \n",
       "3                     0659000640  ...         Compliant     NaN   \n",
       "4                     0659000970  ...         Compliant     NaN   \n",
       "..                           ...  ...               ...     ...   \n",
       "0                     4310701340  ...         Compliant     NaN   \n",
       "0                     4340200000  ...         Compliant     NaN   \n",
       "0                     4365700545  ...         Compliant     NaN   \n",
       "0                            NaN  ...         Compliant     NaN   \n",
       "0                     7666201725  ...         Compliant     NaN   \n",
       "\n",
       "    TotalGHGEmissions  GHGEmissionsIntensity  \\\n",
       "0              249.98                   2.83   \n",
       "1              295.86                   2.86   \n",
       "2             2089.28                   2.19   \n",
       "3              286.43                   4.67   \n",
       "4              505.01                   2.88   \n",
       "..                ...                    ...   \n",
       "0                4.88                   0.05   \n",
       "0              118.20                   0.23   \n",
       "0                8.72                   0.08   \n",
       "0               51.55                   1.17   \n",
       "0             4829.86                   5.57   \n",
       "\n",
       "                                             Location  OtherFuelUse(kBtu)  \\\n",
       "0                                                 NaN                 NaN   \n",
       "1                                                 NaN                 NaN   \n",
       "2                                                 NaN                 NaN   \n",
       "3                                                 NaN                 NaN   \n",
       "4                                                 NaN                 NaN   \n",
       "..                                                ...                 ...   \n",
       "0   {'latitude': '47.69838396', 'longitude': '-122...                 0.0   \n",
       "0   {'latitude': '47.7317276', 'longitude': '-122....                 0.0   \n",
       "0   {'latitude': '47.52141906', 'longitude': '-122...                 0.0   \n",
       "0   {'latitude': '47.6590538024902', 'longitude': ...                 0.0   \n",
       "0   {'latitude': '47.62811223', 'longitude': '-122...                 0.0   \n",
       "\n",
       "    2010 Census Tracts  \\\n",
       "0                  NaN   \n",
       "1                  NaN   \n",
       "2                  NaN   \n",
       "3                  NaN   \n",
       "4                  NaN   \n",
       "..                 ...   \n",
       "0                  NaN   \n",
       "0                116.0   \n",
       "0                  NaN   \n",
       "0                  NaN   \n",
       "0                  NaN   \n",
       "\n",
       "    Seattle Police Department Micro Community Policing Plan Areas  \\\n",
       "0                                                 NaN               \n",
       "1                                                 NaN               \n",
       "2                                                 NaN               \n",
       "3                                                 NaN               \n",
       "4                                                 NaN               \n",
       "..                                                ...               \n",
       "0                                                46.0               \n",
       "0                                                 6.0               \n",
       "0                                                54.0               \n",
       "0                                                20.0               \n",
       "0                                                50.0               \n",
       "\n",
       "    City Council Districts  SPD Beats  \n",
       "0                      NaN        NaN  \n",
       "1                      NaN        NaN  \n",
       "2                      NaN        NaN  \n",
       "3                      NaN        NaN  \n",
       "4                      NaN        NaN  \n",
       "..                     ...        ...  \n",
       "0                      NaN       34.0  \n",
       "0                      1.0       33.0  \n",
       "0                      NaN       14.0  \n",
       "0                      NaN        2.0  \n",
       "0                      NaN       27.0  \n",
       "\n",
       "[3432 rows x 52 columns]"
      ]
     },
     "execution_count": 92,
     "metadata": {},
     "output_type": "execute_result"
    }
   ],
   "source": [
    "df"
   ]
  },
  {
   "cell_type": "markdown",
   "metadata": {},
   "source": [
    "Nous avons 56 nouvelles entrées et quelques nouvelles colonnes dont Location."
   ]
  },
  {
   "cell_type": "markdown",
   "metadata": {},
   "source": [
    "##### Transformation de la data location "
   ]
  },
  {
   "cell_type": "markdown",
   "metadata": {},
   "source": [
    "Nous avons une string complexe en 2016 qui correspond aux entrées 'Latitude','Longitude','Adress','City','state' et 'Zip Codes'"
   ]
  },
  {
   "cell_type": "code",
   "execution_count": 93,
   "metadata": {},
   "outputs": [],
   "source": [
    "import re\n",
    "def listelocation(a):\n",
    "    list=[]\n",
    "    string=str(a)\n",
    "    pattern=', '\n",
    "    result=re.split(pattern,string)\n",
    "    list.append(result[0].lstrip('{\\'latitude\\': ').rstrip('\\''))\n",
    "    list.append(result[1].lstrip('\\'longitude\\': ').rstrip('\\''))\n",
    "    list.append(result[2].lstrip('\\'human_address\\': \\'{\"address\": ').rstrip('\\\"\"'))\n",
    "    list.append(result[3].lstrip('\\\"city\": \"').rstrip('\\\"\"'))\n",
    "    list.append(result[4].lstrip('\\\"state\": \"').rstrip('\\\"\"'))\n",
    "    list.append(result[5].lstrip('\\\"zip\": \"').rstrip('\\\"}\\''))\n",
    "    return list"
   ]
  },
  {
   "cell_type": "code",
   "execution_count": 94,
   "metadata": {},
   "outputs": [
    {
     "data": {
      "text/plain": [
       "0                                                  NaN\n",
       "1                                                  NaN\n",
       "2                                                  NaN\n",
       "3                                                  NaN\n",
       "4                                                  NaN\n",
       "                           ...                        \n",
       "0    {'latitude': '47.69838396', 'longitude': '-122...\n",
       "0    {'latitude': '47.7317276', 'longitude': '-122....\n",
       "0    {'latitude': '47.52141906', 'longitude': '-122...\n",
       "0    {'latitude': '47.6590538024902', 'longitude': ...\n",
       "0    {'latitude': '47.62811223', 'longitude': '-122...\n",
       "Name: Location, Length: 3432, dtype: object"
      ]
     },
     "execution_count": 94,
     "metadata": {},
     "output_type": "execute_result"
    }
   ],
   "source": [
    "df['Location']"
   ]
  },
  {
   "cell_type": "code",
   "execution_count": 95,
   "metadata": {},
   "outputs": [],
   "source": [
    "df=df.reset_index()\n",
    "df=df.drop(['index'],axis=1)"
   ]
  },
  {
   "cell_type": "code",
   "execution_count": 96,
   "metadata": {},
   "outputs": [],
   "source": [
    "df=df.fillna({'Location':0})\n",
    "for i in range(len(df)):    \n",
    "    if df.loc[i,'Location']!=0:\n",
    "        liste=listelocation(df.loc[i,'Location'])\n",
    "        df.loc[i,'Latitude']=liste[0]\n",
    "        df.loc[i,'Longitude']=liste[1]\n",
    "        df.loc[i,'Address']=liste[2]\n",
    "        df.loc[i,'City']=liste[3]\n",
    "        df.loc[i,'State']=liste[4]\n",
    "        df.loc[i,'ZipCode']=liste[5]"
   ]
  },
  {
   "cell_type": "code",
   "execution_count": 97,
   "metadata": {},
   "outputs": [
    {
     "data": {
      "image/png": "[encoded data removed]",
      "text/plain": [
       "<Figure size 288x720 with 1 Axes>"
      ]
     },
     "metadata": {
      "needs_background": "light"
     },
     "output_type": "display_data"
    }
   ],
   "source": [
    "# Proportion de valeurs manquantes par colonne\n",
    "null_counts = df.isnull().mean(axis=0)\n",
    "\n",
    "# barplot des valeurs manquantes par colonne\n",
    "fig = plt.figure(figsize=(4,10))\n",
    "plt.barh(np.arange(len(null_counts)),null_counts, color=\"mediumvioletred\")\n",
    "plt.yticks(np.arange(len(null_counts)),null_counts.index,rotation=0, fontsize=10)\n",
    "sns.despine()\n",
    "plt.margins(y=0)"
   ]
  },
  {
   "cell_type": "markdown",
   "metadata": {},
   "source": [
    "##### Vérification et changement des variables others dans PrimaryPropertyType"
   ]
  },
  {
   "cell_type": "markdown",
   "metadata": {},
   "source": [
    "PrimaryPropertyType"
   ]
  },
  {
   "cell_type": "code",
   "execution_count": 98,
   "metadata": {
    "scrolled": true
   },
   "outputs": [
    {
     "data": {
      "text/plain": [
       "Low-Rise Multifamily           1009\n",
       "Mid-Rise Multifamily            568\n",
       "Small- and Mid-Sized Office     300\n",
       "Other                           263\n",
       "Warehouse                       189\n",
       "Large Office                    176\n",
       "K-12 School                     141\n",
       "Mixed Use Property              134\n",
       "High-Rise Multifamily           105\n",
       "Retail Store                     94\n",
       "Hotel                            77\n",
       "Worship Facility                 72\n",
       "Distribution Center              53\n",
       "Senior Care Community            45\n",
       "Medical Office                   42\n",
       "Supermarket / Grocery Store      40\n",
       "Self-Storage Facility            28\n",
       "University                       25\n",
       "Residence Hall                   23\n",
       "Restaurant                       13\n",
       "Refrigerated Warehouse           12\n",
       "Laboratory                       10\n",
       "Hospital                         10\n",
       "Office                            3\n",
       "Name: PrimaryPropertyType, dtype: int64"
      ]
     },
     "execution_count": 98,
     "metadata": {},
     "output_type": "execute_result"
    }
   ],
   "source": [
    "df['PrimaryPropertyType'].value_counts()"
   ]
  },
  {
   "cell_type": "code",
   "execution_count": 99,
   "metadata": {},
   "outputs": [],
   "source": [
    "for i in df.index:\n",
    "    if df.loc[i,'LargestPropertyUseType']=='Laboratory':\n",
    "        df.loc[i,'PrimaryPropertyType']='Laboratory'\n",
    "    if df.loc[i,'LargestPropertyUseType']=='Retail Store':\n",
    "        df.loc[i,'PrimaryPropertyType']='Retail Store'\n",
    "    if df.loc[i,'PrimaryPropertyType']=='Office':\n",
    "        df.loc[i,'PrimaryPropertyType']='Small- and Mid-Sized Office'\n",
    "    if df.loc[i,'LargestPropertyUseType']=='Parking':\n",
    "        df.loc[i,'PrimaryPropertyType']='Parking'\n",
    "        df.loc[i,'PropertyGFAParking']=df.loc[i,'LargestPropertyUseTypeGFA']      \n",
    "    if df.loc[i,'LargestPropertyUseType']=='Manufacturing/Industrial Plant':\n",
    "        df.loc[i,'PrimaryPropertyType']='Manufacturing/Industrial Plant'\n",
    "    if df.loc[i,'LargestPropertyUseType']=='Other - Recreation':\n",
    "        if df.loc[i,'PropertyName'].endswith('CC'):\n",
    "            df.loc[i,'PrimaryPropertyType']='Community Center'\n",
    "        if df.loc[i,'PropertyName'].endswith('Community Center'):\n",
    "            df.loc[i,'PrimaryPropertyType']='Community Center'\n",
    "        if df.loc[i,'PropertyName'].endswith('Pool'):\n",
    "            df.loc[i,'PrimaryPropertyType']='Pool'\n",
    "    if df.loc[i,'LargestPropertyUseType']=='Other - Entertainment/Public Assembly':\n",
    "        if df.loc[i,'PropertyName'].endswith('Museum'):\n",
    "            df.loc[i,'PrimaryPropertyType']='Museum'\n",
    "        if df.loc[i,'PropertyName'].endswith('Theater'):\n",
    "            df.loc[i,'PrimaryPropertyType']='Theater'\n",
    "        if df.loc[i,'PropertyName'].endswith('theatre bldg'):\n",
    "            df.loc[i,'PrimaryPropertyType']='Theater'\n",
    "        if df.loc[i,'PropertyName'].endswith('Community Center'):\n",
    "            df.loc[i,'PrimaryPropertyType']='Community Center'\n",
    "        if df.loc[i,'PropertyName'].endswith('Cultural Center'):\n",
    "            df.loc[i,'PrimaryPropertyType']='Museum'\n",
    "    if df.loc[i,'PrimaryPropertyType']=='Other/Specialty Hospital':\n",
    "        df.loc[i,'PrimaryPropertyType']='Hospital'\n",
    "    if df.loc[i,'LargestPropertyUseType']=='Museum':\n",
    "        df.loc[i,'PrimaryPropertyType']='Museum'\n",
    "    if df.loc[i,'PrimaryPropertyType']=='Urgent Care/Clinic/Other Outpatient':\n",
    "        df.loc[i,'PrimaryPropertyType']='Hospital'\n",
    "    if df.loc[i,'LargestPropertyUseType']=='Performing Arts':\n",
    "        df.loc[i,'PrimaryPropertyType']='Theater'\n",
    "    if df.loc[i,'PrimaryPropertyType']=='Other - Education':\n",
    "        df.loc[i,'PrimaryPropertyType']='Small- and Mid-Sized Office'\n",
    "    if df.loc[i,'LargestPropertyUseType']=='Adult Education':\n",
    "        df.loc[i,'PrimaryPropertyType']='Small- and Mid-Sized Office'\n",
    "    if df.loc[i,'PrimaryPropertyType']=='Data Center':\n",
    "        df.loc[i,'PrimaryPropertyType']='Manufacturing/Industrial Plant'\n",
    "    if df.loc[i,'LargestPropertyUseType']=='Financial Office':\n",
    "        df.loc[i,'PrimaryPropertyType']='Small- and Mid-Sized Office'\n",
    "    if df.loc[i,'PrimaryPropertyType']=='Library':\n",
    "        df.loc[i,'PrimaryPropertyType']='Museum'\n",
    "    if df.loc[i,'LargestPropertyUseType']=='Strip Mall':\n",
    "        df.loc[i,'PrimaryPropertyType']='Retail Store'\n",
    "    if df.loc[i,'PrimaryPropertyType']=='Bank Branch':\n",
    "        df.loc[i,'PrimaryPropertyType']='Small- and Mid-Sized Office'\n",
    "    if df.loc[i,'LargestPropertyUseType']=='Other - Mall':\n",
    "        df.loc[i,'PrimaryPropertyType']='Retail Store'\n",
    "    if df.loc[i,'PrimaryPropertyType']=='Social/Meeting Hall':\n",
    "        df.loc[i,'PrimaryPropertyType']='Community Center'\n",
    "    if df.loc[i,'LargestPropertyUseType']=='Outpatient Rehabilitation/Physical Therapy':\n",
    "        df.loc[i,'PrimaryPropertyType']='Medical Office'\n",
    "for i in df.index:\n",
    "    if df.loc[i,'BuildingType']=='Nonresidential WA':\n",
    "        df.loc[i,'BuildingType']='NonResidential'"
   ]
  },
  {
   "cell_type": "code",
   "execution_count": 100,
   "metadata": {},
   "outputs": [
    {
     "data": {
      "text/plain": [
       "Low-Rise Multifamily              1009\n",
       "Mid-Rise Multifamily               568\n",
       "Small- and Mid-Sized Office        309\n",
       "Other                              197\n",
       "Warehouse                          189\n",
       "Large Office                       176\n",
       "K-12 School                        141\n",
       "Retail Store                       113\n",
       "High-Rise Multifamily              105\n",
       "Mixed Use Property                 100\n",
       "Hotel                               77\n",
       "Worship Facility                    72\n",
       "Distribution Center                 53\n",
       "Senior Care Community               45\n",
       "Medical Office                      43\n",
       "Supermarket / Grocery Store         40\n",
       "Parking                             32\n",
       "Self-Storage Facility               28\n",
       "University                          25\n",
       "Residence Hall                      23\n",
       "Laboratory                          13\n",
       "Restaurant                          13\n",
       "Refrigerated Warehouse              12\n",
       "Community Center                    11\n",
       "Hospital                            10\n",
       "Museum                               9\n",
       "Manufacturing/Industrial Plant       8\n",
       "Pool                                 6\n",
       "Theater                              5\n",
       "Name: PrimaryPropertyType, dtype: int64"
      ]
     },
     "execution_count": 100,
     "metadata": {},
     "output_type": "execute_result"
    }
   ],
   "source": [
    "df['PrimaryPropertyType'].value_counts()"
   ]
  },
  {
   "cell_type": "markdown",
   "metadata": {},
   "source": [
    "##### Vérification et changement des variables Parking et ParkingGFA"
   ]
  },
  {
   "cell_type": "code",
   "execution_count": 101,
   "metadata": {},
   "outputs": [],
   "source": [
    "for i in df.index:\n",
    "    if df.loc[i,'SecondLargestPropertyUseType']=='Parking':\n",
    "        df.loc[i,'PropertyGFAParking']=df.loc[i,'SecondLargestPropertyUseTypeGFA']\n",
    "    if df.loc[i,'ThirdLargestPropertyUseType']=='Parking':\n",
    "        df.loc[i,'PropertyGFAParking']=df.loc[i,'ThirdLargestPropertyUseTypeGFA']"
   ]
  },
  {
   "cell_type": "markdown",
   "metadata": {},
   "source": [
    "##### Vérification et changement des variables GFA Total et ParkingGFA et BuildingGFA"
   ]
  },
  {
   "cell_type": "code",
   "execution_count": 102,
   "metadata": {},
   "outputs": [],
   "source": [
    "for i in df.index:\n",
    "    df.loc[i,'PropertyGFATotal']=df.loc[i,'PropertyGFAParking']+df.loc[i,'PropertyGFABuilding(s)']\n",
    "    "
   ]
  },
  {
   "cell_type": "markdown",
   "metadata": {},
   "source": [
    "##### Vérification et changement des variables YearBuilt, Number of buildings, number of floors Neighborhood CouncilDistrictCode"
   ]
  },
  {
   "cell_type": "code",
   "execution_count": 103,
   "metadata": {},
   "outputs": [
    {
     "data": {
      "text/plain": [
       "0"
      ]
     },
     "execution_count": 103,
     "metadata": {},
     "output_type": "execute_result"
    }
   ],
   "source": [
    "df['YearBuilt'].isna().sum()"
   ]
  },
  {
   "cell_type": "code",
   "execution_count": 104,
   "metadata": {},
   "outputs": [
    {
     "data": {
      "text/plain": [
       "8"
      ]
     },
     "execution_count": 104,
     "metadata": {},
     "output_type": "execute_result"
    }
   ],
   "source": [
    "df['NumberofBuildings'].isna().sum()"
   ]
  },
  {
   "cell_type": "code",
   "execution_count": 105,
   "metadata": {},
   "outputs": [
    {
     "data": {
      "text/plain": [
       "0"
      ]
     },
     "execution_count": 105,
     "metadata": {},
     "output_type": "execute_result"
    }
   ],
   "source": [
    "df['NumberofFloors'].isna().sum()"
   ]
  },
  {
   "cell_type": "code",
   "execution_count": 106,
   "metadata": {},
   "outputs": [],
   "source": [
    "df=df.fillna({'NumberofBuildings':1})"
   ]
  },
  {
   "cell_type": "code",
   "execution_count": 107,
   "metadata": {},
   "outputs": [
    {
     "data": {
      "text/plain": [
       "0"
      ]
     },
     "execution_count": 107,
     "metadata": {},
     "output_type": "execute_result"
    }
   ],
   "source": [
    "df['CouncilDistrictCode'].isna().sum()"
   ]
  },
  {
   "cell_type": "code",
   "execution_count": 108,
   "metadata": {},
   "outputs": [
    {
     "data": {
      "text/plain": [
       "0"
      ]
     },
     "execution_count": 108,
     "metadata": {},
     "output_type": "execute_result"
    }
   ],
   "source": [
    "df['Neighborhood'].isna().sum()"
   ]
  },
  {
   "cell_type": "code",
   "execution_count": null,
   "metadata": {},
   "outputs": [],
   "source": []
  },
  {
   "cell_type": "code",
   "execution_count": 109,
   "metadata": {},
   "outputs": [],
   "source": [
    "df=df.fillna({'LargestPropertyUseTypeGFA':0})\n",
    "df=df.fillna({'ThirdLargestPropertyUseTypeGFA':0})\n",
    "df=df.fillna({'SecondLargestPropertyUseTypeGFA':0})"
   ]
  },
  {
   "cell_type": "markdown",
   "metadata": {},
   "source": [
    "##### Vérification et changement des variables liées à l'énergie"
   ]
  },
  {
   "cell_type": "markdown",
   "metadata": {},
   "source": [
    "Elimination des non-compliants"
   ]
  },
  {
   "cell_type": "code",
   "execution_count": 110,
   "metadata": {},
   "outputs": [
    {
     "data": {
      "text/plain": [
       "3432"
      ]
     },
     "execution_count": 110,
     "metadata": {},
     "output_type": "execute_result"
    }
   ],
   "source": [
    "len(df)"
   ]
  },
  {
   "cell_type": "code",
   "execution_count": 111,
   "metadata": {},
   "outputs": [],
   "source": [
    "df=df[df['ComplianceStatus']=='Compliant']"
   ]
  },
  {
   "cell_type": "code",
   "execution_count": 112,
   "metadata": {},
   "outputs": [
    {
     "data": {
      "text/plain": [
       "3267"
      ]
     },
     "execution_count": 112,
     "metadata": {},
     "output_type": "execute_result"
    }
   ],
   "source": [
    "len(df)"
   ]
  },
  {
   "cell_type": "code",
   "execution_count": 113,
   "metadata": {},
   "outputs": [],
   "source": [
    "df1=df[df['ComplianceStatus']=='Error - Correct Default Data']"
   ]
  },
  {
   "cell_type": "code",
   "execution_count": 114,
   "metadata": {},
   "outputs": [
    {
     "data": {
      "text/plain": [
       "Compliant    3267\n",
       "Name: ComplianceStatus, dtype: int64"
      ]
     },
     "execution_count": 114,
     "metadata": {},
     "output_type": "execute_result"
    }
   ],
   "source": [
    "df['ComplianceStatus'].value_counts()"
   ]
  },
  {
   "cell_type": "code",
   "execution_count": 115,
   "metadata": {},
   "outputs": [
    {
     "data": {
      "text/plain": [
       "3212"
      ]
     },
     "execution_count": 115,
     "metadata": {},
     "output_type": "execute_result"
    }
   ],
   "source": [
    "df['OtherFuelUse(kBtu)'].isna().sum()"
   ]
  },
  {
   "cell_type": "code",
   "execution_count": 116,
   "metadata": {},
   "outputs": [],
   "source": [
    "df=df.fillna({'OtherFuelUse(kBtu)':0})"
   ]
  },
  {
   "cell_type": "code",
   "execution_count": 117,
   "metadata": {},
   "outputs": [
    {
     "data": {
      "text/plain": [
       "0"
      ]
     },
     "execution_count": 117,
     "metadata": {},
     "output_type": "execute_result"
    }
   ],
   "source": [
    "df['OtherFuelUse(kBtu)'].isna().sum()"
   ]
  },
  {
   "cell_type": "markdown",
   "metadata": {},
   "source": [
    "Elimination des outliers"
   ]
  },
  {
   "cell_type": "code",
   "execution_count": 118,
   "metadata": {},
   "outputs": [
    {
     "data": {
      "text/plain": [
       "Low Outlier    3\n",
       "Name: Outlier, dtype: int64"
      ]
     },
     "execution_count": 118,
     "metadata": {},
     "output_type": "execute_result"
    }
   ],
   "source": [
    "df['Outlier'].value_counts()"
   ]
  },
  {
   "cell_type": "code",
   "execution_count": 119,
   "metadata": {},
   "outputs": [],
   "source": [
    "df=df[df['Outlier']!='Low Outlier']\n",
    "df=df[df['Outlier']!='Low outlier']"
   ]
  },
  {
   "cell_type": "code",
   "execution_count": 120,
   "metadata": {},
   "outputs": [
    {
     "data": {
      "text/plain": [
       "3264"
      ]
     },
     "execution_count": 120,
     "metadata": {},
     "output_type": "execute_result"
    }
   ],
   "source": [
    "len(df)"
   ]
  },
  {
   "cell_type": "markdown",
   "metadata": {},
   "source": [
    "Ajout d'une colonne error pour vérifier que l'ensemble des values somme pour l'énergie totale avec un intervalle de 1%:"
   ]
  },
  {
   "cell_type": "code",
   "execution_count": 121,
   "metadata": {},
   "outputs": [],
   "source": [
    "df=df.assign(A=0)\n",
    "df=df.rename(columns={'A':'ErrorfuelUse'})"
   ]
  },
  {
   "cell_type": "code",
   "execution_count": 122,
   "metadata": {},
   "outputs": [
    {
     "data": {
      "text/plain": [
       "0       0\n",
       "1       0\n",
       "2       0\n",
       "3       0\n",
       "4       0\n",
       "       ..\n",
       "3427    0\n",
       "3428    0\n",
       "3429    0\n",
       "3430    0\n",
       "3431    0\n",
       "Name: ErrorfuelUse, Length: 3264, dtype: int64"
      ]
     },
     "execution_count": 122,
     "metadata": {},
     "output_type": "execute_result"
    }
   ],
   "source": [
    "df['ErrorfuelUse']"
   ]
  },
  {
   "cell_type": "code",
   "execution_count": 123,
   "metadata": {},
   "outputs": [],
   "source": [
    "for i in df.index:    \n",
    "    df.loc[i,'ErrorfuelUse']=np.abs((df.loc[i,'SiteEnergyUse(kBtu)']-(df.loc[i,'SteamUse(kBtu)'])-(df.loc[i,'Electricity(kBtu)'])-(df.loc[i,'OtherFuelUse(kBtu)'])-(df.loc[i,'NaturalGas(kBtu)']))/df.loc[i,'SiteEnergyUse(kBtu)'])"
   ]
  },
  {
   "cell_type": "code",
   "execution_count": 124,
   "metadata": {},
   "outputs": [],
   "source": [
    "df=df[df['ErrorfuelUse']<0.01]"
   ]
  },
  {
   "cell_type": "code",
   "execution_count": 125,
   "metadata": {},
   "outputs": [
    {
     "data": {
      "text/plain": [
       "3223"
      ]
     },
     "execution_count": 125,
     "metadata": {},
     "output_type": "execute_result"
    }
   ],
   "source": [
    "len(df)"
   ]
  },
  {
   "cell_type": "markdown",
   "metadata": {},
   "source": [
    "##### Suppression des colonnes inutiles"
   ]
  },
  {
   "cell_type": "code",
   "execution_count": 126,
   "metadata": {},
   "outputs": [
    {
     "data": {
      "text/plain": [
       "Index(['OSEBuildingID', 'DataYear', 'BuildingType', 'PrimaryPropertyType',\n",
       "       'PropertyName', 'Address', 'City', 'State', 'ZipCode',\n",
       "       'TaxParcelIdentificationNumber', 'CouncilDistrictCode', 'Neighborhood',\n",
       "       'Latitude', 'Longitude', 'YearBuilt', 'NumberofBuildings',\n",
       "       'NumberofFloors', 'PropertyGFATotal', 'PropertyGFAParking',\n",
       "       'PropertyGFABuilding(s)', 'ListOfAllPropertyUseTypes',\n",
       "       'LargestPropertyUseType', 'LargestPropertyUseTypeGFA',\n",
       "       'SecondLargestPropertyUseType', 'SecondLargestPropertyUseTypeGFA',\n",
       "       'ThirdLargestPropertyUseType', 'ThirdLargestPropertyUseTypeGFA',\n",
       "       'YearsENERGYSTARCertified', 'ENERGYSTARScore', 'SiteEUI(kBtu/sf)',\n",
       "       'SiteEUIWN(kBtu/sf)', 'SourceEUI(kBtu/sf)', 'SourceEUIWN(kBtu/sf)',\n",
       "       'SiteEnergyUse(kBtu)', 'SiteEnergyUseWN(kBtu)', 'SteamUse(kBtu)',\n",
       "       'Electricity(kWh)', 'Electricity(kBtu)', 'NaturalGas(therms)',\n",
       "       'NaturalGas(kBtu)', 'DefaultData', 'Comments', 'ComplianceStatus',\n",
       "       'Outlier', 'TotalGHGEmissions', 'GHGEmissionsIntensity', 'Location',\n",
       "       'OtherFuelUse(kBtu)', '2010 Census Tracts',\n",
       "       'Seattle Police Department Micro Community Policing Plan Areas',\n",
       "       'City Council Districts', 'SPD Beats', 'ErrorfuelUse'],\n",
       "      dtype='object')"
      ]
     },
     "execution_count": 126,
     "metadata": {},
     "output_type": "execute_result"
    }
   ],
   "source": [
    "df.columns"
   ]
  },
  {
   "cell_type": "code",
   "execution_count": 127,
   "metadata": {},
   "outputs": [],
   "source": [
    "colonnesinutiles=['CouncilDistrictCode','City', 'State','TaxParcelIdentificationNumber','ListOfAllPropertyUseTypes',\n",
    "       'LargestPropertyUseType',\n",
    "       'SecondLargestPropertyUseType',\n",
    "       'ThirdLargestPropertyUseType',\n",
    "       'YearsENERGYSTARCertified','Comments','2010 Census Tracts',\n",
    "       'Seattle Police Department Micro Community Policing Plan Areas',\n",
    "       'City Council Districts', 'SPD Beats', 'ErrorfuelUse','Location','DefaultData', 'ComplianceStatus','Outlier']"
   ]
  },
  {
   "cell_type": "code",
   "execution_count": 128,
   "metadata": {},
   "outputs": [],
   "source": [
    "df=df.drop(colonnesinutiles,axis=1)"
   ]
  },
  {
   "cell_type": "markdown",
   "metadata": {},
   "source": [
    "Export fichier"
   ]
  },
  {
   "cell_type": "code",
   "execution_count": 129,
   "metadata": {},
   "outputs": [],
   "source": [
    "df.to_csv(\"DatasetSeattle.csv\",index=False)"
   ]
  },
  {
   "cell_type": "code",
   "execution_count": null,
   "metadata": {},
   "outputs": [],
   "source": []
  },
  {
   "cell_type": "code",
   "execution_count": null,
   "metadata": {},
   "outputs": [],
   "source": []
  },
  {
   "cell_type": "code",
   "execution_count": null,
   "metadata": {},
   "outputs": [],
   "source": []
  }
 ],
 "metadata": {
  "kernelspec": {
   "display_name": "Python 3",
   "language": "python",
   "name": "python3"
  },
  "language_info": {
   "codemirror_mode": {
    "name": "ipython",
    "version": 3
   },
   "file_extension": ".py",
   "mimetype": "text/x-python",
   "name": "python",
   "nbconvert_exporter": "python",
   "pygments_lexer": "ipython3",
   "version": "3.8.3"
  }
 },
 "nbformat": 4,
 "nbformat_minor": 4
}
